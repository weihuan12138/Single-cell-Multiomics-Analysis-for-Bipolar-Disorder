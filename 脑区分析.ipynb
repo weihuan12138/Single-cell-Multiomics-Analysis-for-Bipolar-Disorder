{
 "cells": [
  {
   "cell_type": "code",
   "execution_count": 1,
   "id": "8895798f",
   "metadata": {},
   "outputs": [],
   "source": [
    "import scdrs\n",
    "import scanpy as sc\n",
    "sc.set_figure_params(dpi=125)\n",
    "from anndata import AnnData\n",
    "from scipy import stats\n",
    "import pandas as pd\n",
    "import numpy as np\n",
    "import seaborn as sns\n",
    "import matplotlib.pyplot as plt\n",
    "import os\n",
    "import warnings\n",
    "\n",
    "warnings.filterwarnings(\"ignore\")"
   ]
  },
  {
   "cell_type": "code",
   "execution_count": 2,
   "id": "40d2d5e9",
   "metadata": {},
   "outputs": [],
   "source": [
    "adata = sc.read_h5ad(\"E:/anaconda/jupyter notebook/bd_brain.h5ad\")"
   ]
  },
  {
   "cell_type": "code",
   "execution_count": null,
   "id": "713dbd85",
   "metadata": {},
   "outputs": [],
   "source": [
    "#空值筛选 deldata  = adata[adata.obs.tissues.notnull(), :] "
   ]
  },
  {
   "cell_type": "code",
   "execution_count": 3,
   "id": "1ceaead1",
   "metadata": {},
   "outputs": [],
   "source": [
    "dict_gs = scdrs.util.load_gs(\n",
    "    \"E:/anaconda/jupyter notebook/geneset.gs\",\n",
    "    src_species=\"human\",\n",
    "    dst_species=\"human\",\n",
    "    to_intersect=adata.var_names,\n",
    ")"
   ]
  },
  {
   "cell_type": "code",
   "execution_count": 4,
   "id": "fcdc9037",
   "metadata": {},
   "outputs": [],
   "source": [
    "scdrs.preprocess(adata, n_mean_bin=20, n_var_bin=20, copy=False)"
   ]
  },
  {
   "cell_type": "code",
   "execution_count": 5,
   "id": "9579c1e7",
   "metadata": {},
   "outputs": [
    {
     "name": "stderr",
     "output_type": "stream",
     "text": [
      "Computing control scores: 100%|███████████████████████████████████████████████████| 1000/1000 [00:07<00:00, 133.01it/s]\n"
     ]
    }
   ],
   "source": [
    "dict_df_score = dict()\n",
    "for trait in dict_gs:\n",
    "    gene_list, gene_weights = dict_gs[trait]\n",
    "    dict_df_score[trait] = scdrs.score_cell(\n",
    "        data=adata,\n",
    "        gene_list=gene_list,\n",
    "        gene_weight=gene_weights,\n",
    "        ctrl_match_key=\"mean_var\",\n",
    "        n_ctrl=1000,\n",
    "        weight_opt=\"vs\",\n",
    "        return_ctrl_raw_score=False,\n",
    "        return_ctrl_norm_score=True,\n",
    "        verbose=False,\n",
    "    )"
   ]
  },
  {
   "cell_type": "code",
   "execution_count": null,
   "id": "9f91731e",
   "metadata": {},
   "outputs": [],
   "source": [
    "#adata.obs.tissue=adata.obs.tissue.tolist()"
   ]
  },
  {
   "cell_type": "code",
   "execution_count": null,
   "id": "6e080447",
   "metadata": {},
   "outputs": [],
   "source": [
    "adata.obs.tissue"
   ]
  },
  {
   "cell_type": "code",
   "execution_count": 6,
   "id": "b1d6369e",
   "metadata": {},
   "outputs": [
    {
     "data": {
      "text/html": [
       "<style type=\"text/css\">\n",
       "</style>\n",
       "<table id=\"T_ffd7c\">\n",
       "  <caption>Group-level statistics for HEIGHT(control)</caption>\n",
       "  <thead>\n",
       "    <tr>\n",
       "      <th class=\"blank level0\" >&nbsp;</th>\n",
       "      <th id=\"T_ffd7c_level0_col0\" class=\"col_heading level0 col0\" >n_cell</th>\n",
       "      <th id=\"T_ffd7c_level0_col1\" class=\"col_heading level0 col1\" >n_ctrl</th>\n",
       "      <th id=\"T_ffd7c_level0_col2\" class=\"col_heading level0 col2\" >assoc_mcp</th>\n",
       "      <th id=\"T_ffd7c_level0_col3\" class=\"col_heading level0 col3\" >assoc_mcz</th>\n",
       "      <th id=\"T_ffd7c_level0_col4\" class=\"col_heading level0 col4\" >hetero_mcp</th>\n",
       "      <th id=\"T_ffd7c_level0_col5\" class=\"col_heading level0 col5\" >hetero_mcz</th>\n",
       "      <th id=\"T_ffd7c_level0_col6\" class=\"col_heading level0 col6\" >n_fdr_0.05</th>\n",
       "      <th id=\"T_ffd7c_level0_col7\" class=\"col_heading level0 col7\" >n_fdr_0.1</th>\n",
       "      <th id=\"T_ffd7c_level0_col8\" class=\"col_heading level0 col8\" >n_fdr_0.2</th>\n",
       "    </tr>\n",
       "    <tr>\n",
       "      <th class=\"index_name level0\" >group</th>\n",
       "      <th class=\"blank col0\" >&nbsp;</th>\n",
       "      <th class=\"blank col1\" >&nbsp;</th>\n",
       "      <th class=\"blank col2\" >&nbsp;</th>\n",
       "      <th class=\"blank col3\" >&nbsp;</th>\n",
       "      <th class=\"blank col4\" >&nbsp;</th>\n",
       "      <th class=\"blank col5\" >&nbsp;</th>\n",
       "      <th class=\"blank col6\" >&nbsp;</th>\n",
       "      <th class=\"blank col7\" >&nbsp;</th>\n",
       "      <th class=\"blank col8\" >&nbsp;</th>\n",
       "    </tr>\n",
       "  </thead>\n",
       "  <tbody>\n",
       "    <tr>\n",
       "      <th id=\"T_ffd7c_level0_row0\" class=\"row_heading level0 row0\" >cortical plate</th>\n",
       "      <td id=\"T_ffd7c_row0_col0\" class=\"data row0 col0\" >343.000000</td>\n",
       "      <td id=\"T_ffd7c_row0_col1\" class=\"data row0 col1\" >1000.000000</td>\n",
       "      <td id=\"T_ffd7c_row0_col2\" class=\"data row0 col2\" >0.989011</td>\n",
       "      <td id=\"T_ffd7c_row0_col3\" class=\"data row0 col3\" >-2.192552</td>\n",
       "      <td id=\"T_ffd7c_row0_col4\" class=\"data row0 col4\" >0.972028</td>\n",
       "      <td id=\"T_ffd7c_row0_col5\" class=\"data row0 col5\" >-2.005373</td>\n",
       "      <td id=\"T_ffd7c_row0_col6\" class=\"data row0 col6\" >0.000000</td>\n",
       "      <td id=\"T_ffd7c_row0_col7\" class=\"data row0 col7\" >0.000000</td>\n",
       "      <td id=\"T_ffd7c_row0_col8\" class=\"data row0 col8\" >0.000000</td>\n",
       "    </tr>\n",
       "    <tr>\n",
       "      <th id=\"T_ffd7c_level0_row1\" class=\"row_heading level0 row1\" >dorsal pallium</th>\n",
       "      <td id=\"T_ffd7c_row1_col0\" class=\"data row1 col0\" >261.000000</td>\n",
       "      <td id=\"T_ffd7c_row1_col1\" class=\"data row1 col1\" >1000.000000</td>\n",
       "      <td id=\"T_ffd7c_row1_col2\" class=\"data row1 col2\" >0.029970</td>\n",
       "      <td id=\"T_ffd7c_row1_col3\" class=\"data row1 col3\" >1.990381</td>\n",
       "      <td id=\"T_ffd7c_row1_col4\" class=\"data row1 col4\" >0.067932</td>\n",
       "      <td id=\"T_ffd7c_row1_col5\" class=\"data row1 col5\" >1.511046</td>\n",
       "      <td id=\"T_ffd7c_row1_col6\" class=\"data row1 col6\" >0.000000</td>\n",
       "      <td id=\"T_ffd7c_row1_col7\" class=\"data row1 col7\" >0.000000</td>\n",
       "      <td id=\"T_ffd7c_row1_col8\" class=\"data row1 col8\" >0.000000</td>\n",
       "    </tr>\n",
       "    <tr>\n",
       "      <th id=\"T_ffd7c_level0_row2\" class=\"row_heading level0 row2\" >dorsolateral prefrontal cortex</th>\n",
       "      <td id=\"T_ffd7c_row2_col0\" class=\"data row2 col0\" >374.000000</td>\n",
       "      <td id=\"T_ffd7c_row2_col1\" class=\"data row2 col1\" >1000.000000</td>\n",
       "      <td id=\"T_ffd7c_row2_col2\" class=\"data row2 col2\" >0.703297</td>\n",
       "      <td id=\"T_ffd7c_row2_col3\" class=\"data row2 col3\" >-0.602826</td>\n",
       "      <td id=\"T_ffd7c_row2_col4\" class=\"data row2 col4\" >0.072927</td>\n",
       "      <td id=\"T_ffd7c_row2_col5\" class=\"data row2 col5\" >1.500786</td>\n",
       "      <td id=\"T_ffd7c_row2_col6\" class=\"data row2 col6\" >0.000000</td>\n",
       "      <td id=\"T_ffd7c_row2_col7\" class=\"data row2 col7\" >0.000000</td>\n",
       "      <td id=\"T_ffd7c_row2_col8\" class=\"data row2 col8\" >0.000000</td>\n",
       "    </tr>\n",
       "  </tbody>\n",
       "</table>\n"
      ],
      "text/plain": [
       "<pandas.io.formats.style.Styler at 0x2e52bc5cdc0>"
      ]
     },
     "metadata": {},
     "output_type": "display_data"
    }
   ],
   "source": [
    "df_stats = scdrs.method.downstream_group_analysis(\n",
    "    adata=adata,\n",
    "    df_full_score=dict_df_score[\"P\"],\n",
    "    group_cols=[\"tissue\"],\n",
    ")[\"tissue\"]\n",
    "\n",
    "display(df_stats.style.set_caption(\"Group-level statistics for HEIGHT(control)\"))"
   ]
  },
  {
   "cell_type": "code",
   "execution_count": 7,
   "id": "48146c90",
   "metadata": {},
   "outputs": [],
   "source": [
    "odata = adata[adata.obs.leiden == \"Astrocyte_1\"] "
   ]
  },
  {
   "cell_type": "code",
   "execution_count": 9,
   "id": "78dea1a9",
   "metadata": {},
   "outputs": [],
   "source": [
    "odata = adata[adata.obs.leiden == \"Astrocyte_2\"] "
   ]
  },
  {
   "cell_type": "code",
   "execution_count": 11,
   "id": "4c6937df",
   "metadata": {},
   "outputs": [],
   "source": [
    "odata = adata[adata.obs.leiden == \"Astrocyte_3\"] "
   ]
  },
  {
   "cell_type": "code",
   "execution_count": 13,
   "id": "1f284d1d",
   "metadata": {},
   "outputs": [],
   "source": [
    "odata = adata[adata.obs.leiden == \"Microglial cell_1\"] "
   ]
  },
  {
   "cell_type": "code",
   "execution_count": 15,
   "id": "95f28673",
   "metadata": {},
   "outputs": [],
   "source": [
    "odata = adata[adata.obs.leiden == \"Microglial cell_2\"] "
   ]
  },
  {
   "cell_type": "code",
   "execution_count": 21,
   "id": "aa87552e",
   "metadata": {},
   "outputs": [],
   "source": [
    "odata = adata[adata.obs.leiden == \"Oligodendrocyte progenitor cell\"] "
   ]
  },
  {
   "cell_type": "code",
   "execution_count": 23,
   "id": "cb9db7d5",
   "metadata": {},
   "outputs": [],
   "source": [
    "odata = adata[adata.obs.leiden == \"ADCY1 group\"] "
   ]
  },
  {
   "cell_type": "code",
   "execution_count": 19,
   "id": "03ca6f13",
   "metadata": {},
   "outputs": [],
   "source": [
    "odata = adata[adata.obs.leiden == \"Plasmacytoid dendritic cell\"] "
   ]
  },
  {
   "cell_type": "code",
   "execution_count": 24,
   "id": "916cf807",
   "metadata": {},
   "outputs": [
    {
     "data": {
      "text/html": [
       "<style type=\"text/css\">\n",
       "</style>\n",
       "<table id=\"T_af701\">\n",
       "  <caption>Group-level statistics for BD_ATAC</caption>\n",
       "  <thead>\n",
       "    <tr>\n",
       "      <th class=\"blank level0\" >&nbsp;</th>\n",
       "      <th id=\"T_af701_level0_col0\" class=\"col_heading level0 col0\" >n_cell</th>\n",
       "      <th id=\"T_af701_level0_col1\" class=\"col_heading level0 col1\" >n_ctrl</th>\n",
       "      <th id=\"T_af701_level0_col2\" class=\"col_heading level0 col2\" >assoc_mcp</th>\n",
       "      <th id=\"T_af701_level0_col3\" class=\"col_heading level0 col3\" >assoc_mcz</th>\n",
       "      <th id=\"T_af701_level0_col4\" class=\"col_heading level0 col4\" >hetero_mcp</th>\n",
       "      <th id=\"T_af701_level0_col5\" class=\"col_heading level0 col5\" >hetero_mcz</th>\n",
       "      <th id=\"T_af701_level0_col6\" class=\"col_heading level0 col6\" >n_fdr_0.05</th>\n",
       "      <th id=\"T_af701_level0_col7\" class=\"col_heading level0 col7\" >n_fdr_0.1</th>\n",
       "      <th id=\"T_af701_level0_col8\" class=\"col_heading level0 col8\" >n_fdr_0.2</th>\n",
       "    </tr>\n",
       "    <tr>\n",
       "      <th class=\"index_name level0\" >group</th>\n",
       "      <th class=\"blank col0\" >&nbsp;</th>\n",
       "      <th class=\"blank col1\" >&nbsp;</th>\n",
       "      <th class=\"blank col2\" >&nbsp;</th>\n",
       "      <th class=\"blank col3\" >&nbsp;</th>\n",
       "      <th class=\"blank col4\" >&nbsp;</th>\n",
       "      <th class=\"blank col5\" >&nbsp;</th>\n",
       "      <th class=\"blank col6\" >&nbsp;</th>\n",
       "      <th class=\"blank col7\" >&nbsp;</th>\n",
       "      <th class=\"blank col8\" >&nbsp;</th>\n",
       "    </tr>\n",
       "  </thead>\n",
       "  <tbody>\n",
       "    <tr>\n",
       "      <th id=\"T_af701_level0_row0\" class=\"row_heading level0 row0\" >dorsolateral prefrontal cortex</th>\n",
       "      <td id=\"T_af701_row0_col0\" class=\"data row0 col0\" >30.000000</td>\n",
       "      <td id=\"T_af701_row0_col1\" class=\"data row0 col1\" >1000.000000</td>\n",
       "      <td id=\"T_af701_row0_col2\" class=\"data row0 col2\" >0.717283</td>\n",
       "      <td id=\"T_af701_row0_col3\" class=\"data row0 col3\" >-0.589166</td>\n",
       "      <td id=\"T_af701_row0_col4\" class=\"data row0 col4\" >0.779221</td>\n",
       "      <td id=\"T_af701_row0_col5\" class=\"data row0 col5\" >-0.743006</td>\n",
       "      <td id=\"T_af701_row0_col6\" class=\"data row0 col6\" >0.000000</td>\n",
       "      <td id=\"T_af701_row0_col7\" class=\"data row0 col7\" >0.000000</td>\n",
       "      <td id=\"T_af701_row0_col8\" class=\"data row0 col8\" >0.000000</td>\n",
       "    </tr>\n",
       "  </tbody>\n",
       "</table>\n"
      ],
      "text/plain": [
       "<pandas.io.formats.style.Styler at 0x2e53fc4b100>"
      ]
     },
     "metadata": {},
     "output_type": "display_data"
    }
   ],
   "source": [
    "df_stats = scdrs.method.downstream_group_analysis(\n",
    "    adata=odata,\n",
    "    df_full_score=dict_df_score[\"P\"],\n",
    "    group_cols=[\"tissue\"],\n",
    ")[\"tissue\"]\n",
    "\n",
    "display(df_stats.style.set_caption(\"Group-level statistics for BD_ATAC\"))"
   ]
  },
  {
   "cell_type": "code",
   "execution_count": null,
   "id": "3503c1bf",
   "metadata": {},
   "outputs": [],
   "source": [
    "A2data = adata[adata.obs.leiden == \"Astrocyte_2\"] "
   ]
  },
  {
   "cell_type": "code",
   "execution_count": null,
   "id": "4900d402",
   "metadata": {},
   "outputs": [],
   "source": [
    "df_stats = scdrs.method.downstream_group_analysis(\n",
    "    adata=A2data,\n",
    "    df_full_score=dict_df_score[\"BD_TWAS\"],\n",
    "    group_cols=[\"tissue\"],\n",
    ")[\"tissue\"]\n",
    "\n",
    "display(df_stats.style.set_caption(\"Group-level statistics for BD_TWAS\"))\n",
    "\n",
    "\n",
    "df_stats = scdrs.method.downstream_group_analysis(\n",
    "    adata=A2data,\n",
    "    df_full_score=dict_df_score[\"BD_RNASeq\"],\n",
    "    group_cols=[\"tissue\"],\n",
    ")[\"tissue\"]\n",
    "\n",
    "display(df_stats.style.set_caption(\"Group-level statistics for BD_RNASeq\"))\n",
    "\n",
    "\n",
    "df_stats = scdrs.method.downstream_group_analysis(\n",
    "    adata=A2data,\n",
    "    df_full_score=dict_df_score[\"BD_ATAC\"],\n",
    "    group_cols=[\"tissue\"],\n",
    ")[\"tissue\"]\n",
    "\n",
    "display(df_stats.style.set_caption(\"Group-level statistics for BD_ATAC\"))\n",
    "\n",
    "df_stats = scdrs.method.downstream_group_analysis(\n",
    "    adata=A2data,\n",
    "    df_full_score=dict_df_score[\"BD_GWAS\"],\n",
    "    group_cols=[\"tissue\"],\n",
    ")[\"tissue\"]\n",
    "\n",
    "display(df_stats.style.set_caption(\"Group-level statistics for BD_GWAS\"))\n",
    "\n",
    "df_stats = scdrs.method.downstream_group_analysis(\n",
    "    adata=A2data,\n",
    "    df_full_score=dict_df_score[\"HEIGHT_GWAS\"],\n",
    "    group_cols=[\"tissue\"],\n",
    ")[\"tissue\"]\n",
    "\n",
    "display(df_stats.style.set_caption(\"Group-level statistics for HEIGHT_GWAS\"))\n",
    "\n",
    "df_stats = scdrs.method.downstream_group_analysis(\n",
    "    adata=A2data,\n",
    "    df_full_score=dict_df_score[\"HEIGHT\"],\n",
    "    group_cols=[\"tissue\"],\n",
    ")[\"tissue\"]\n",
    "\n",
    "display(df_stats.style.set_caption(\"Group-level statistics for HEIGHT\"))"
   ]
  },
  {
   "cell_type": "code",
   "execution_count": null,
   "id": "db3d84b9",
   "metadata": {},
   "outputs": [],
   "source": [
    "A3data = adata[adata.obs.leiden == \"Astrocyte_3\"] "
   ]
  },
  {
   "cell_type": "code",
   "execution_count": null,
   "id": "f273480d",
   "metadata": {},
   "outputs": [],
   "source": [
    "df_stats = scdrs.method.downstream_group_analysis(\n",
    "    adata=A3data,\n",
    "    df_full_score=dict_df_score[\"BD_TWAS\"],\n",
    "    group_cols=[\"tissue\"],\n",
    ")[\"tissue\"]\n",
    "\n",
    "display(df_stats.style.set_caption(\"Group-level statistics for BD_TWAS\"))\n",
    "\n",
    "\n",
    "df_stats = scdrs.method.downstream_group_analysis(\n",
    "    adata=A3data,\n",
    "    df_full_score=dict_df_score[\"BD_RNASeq\"],\n",
    "    group_cols=[\"tissue\"],\n",
    ")[\"tissue\"]\n",
    "\n",
    "display(df_stats.style.set_caption(\"Group-level statistics for BD_RNASeq\"))\n",
    "\n",
    "\n",
    "df_stats = scdrs.method.downstream_group_analysis(\n",
    "    adata=A3data,\n",
    "    df_full_score=dict_df_score[\"BD_ATAC\"],\n",
    "    group_cols=[\"tissue\"],\n",
    ")[\"tissue\"]\n",
    "\n",
    "display(df_stats.style.set_caption(\"Group-level statistics for BD_ATAC\"))"
   ]
  },
  {
   "cell_type": "code",
   "execution_count": null,
   "id": "abc7d75a",
   "metadata": {},
   "outputs": [],
   "source": []
  },
  {
   "cell_type": "code",
   "execution_count": null,
   "id": "8f7416fc",
   "metadata": {},
   "outputs": [],
   "source": []
  }
 ],
 "metadata": {
  "kernelspec": {
   "display_name": "wenming",
   "language": "python",
   "name": "wenming"
  },
  "language_info": {
   "codemirror_mode": {
    "name": "ipython",
    "version": 3
   },
   "file_extension": ".py",
   "mimetype": "text/x-python",
   "name": "python",
   "nbconvert_exporter": "python",
   "pygments_lexer": "ipython3",
   "version": "3.10.8"
  }
 },
 "nbformat": 4,
 "nbformat_minor": 5
}
