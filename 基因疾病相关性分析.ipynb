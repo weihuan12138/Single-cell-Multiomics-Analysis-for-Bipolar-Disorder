{
 "cells": [
  {
   "cell_type": "code",
   "execution_count": 16,
   "id": "473d1976",
   "metadata": {},
   "outputs": [],
   "source": [
    "import scdrs\n",
    "import scanpy as sc\n",
    "sc.set_figure_params(dpi=125)\n",
    "from anndata import AnnData\n",
    "from scipy import stats\n",
    "import pandas as pd\n",
    "import numpy as np\n",
    "import seaborn as sns\n",
    "import matplotlib.pyplot as plt\n",
    "import os\n",
    "import warnings\n",
    "\n",
    "warnings.filterwarnings(\"ignore\")"
   ]
  },
  {
   "cell_type": "code",
   "execution_count": 17,
   "id": "a1ad7a3c",
   "metadata": {},
   "outputs": [],
   "source": [
    "# scdrs.util.load_h5ad is a simple wrapper to read h5ad files\n",
    "# with basic data filtering\n",
    "adata = sc.read_h5ad(\"E:/anaconda/jupyter notebook/bd.h5ad\")\n",
    "\n",
    "\n",
    "# load geneset, convert homologs and overlap gene names to adata.var_names\n",
    "dict_gs = scdrs.util.load_gs(\n",
    "    \"E:/anaconda/jupyter notebook/geneset.gs\",\n",
    "    src_species=\"human\",\n",
    "    dst_species=\"human\",\n",
    "    to_intersect=adata.var_names,\n",
    ")\n",
    "\n",
    "# load covariates\n",
    "#df_cov = pd.read_csv(\"data/cov.tsv\", sep=\"\\t\", index_col=0)\n",
    "\n",
    "# preprocess data to\n",
    "# (1) regress out from covariates\n",
    "# (2) group genes into bins by mean and variance\n",
    "scdrs.preprocess(adata, n_mean_bin=20, n_var_bin=20, copy=False)"
   ]
  },
  {
   "cell_type": "code",
   "execution_count": 18,
   "id": "bf5f2f23",
   "metadata": {},
   "outputs": [
    {
     "name": "stderr",
     "output_type": "stream",
     "text": [
      "Computing control scores: 100%|███████████████████████████████████████████████████| 1000/1000 [00:07<00:00, 136.94it/s]\n"
     ]
    }
   ],
   "source": [
    "dict_df_score = dict()\n",
    "for trait in dict_gs:\n",
    "    gene_list, gene_weights = dict_gs[trait]\n",
    "    dict_df_score[trait] = scdrs.score_cell(\n",
    "        data=adata,\n",
    "        gene_list=gene_list,\n",
    "        gene_weight=gene_weights,\n",
    "        ctrl_match_key=\"mean_var\",\n",
    "        n_ctrl=1000,\n",
    "        weight_opt=\"vs\",\n",
    "        return_ctrl_raw_score=False,\n",
    "        return_ctrl_norm_score=True,\n",
    "        verbose=False,\n",
    "    )"
   ]
  },
  {
   "cell_type": "code",
   "execution_count": 4,
   "id": "1973a390",
   "metadata": {},
   "outputs": [],
   "source": [
    "GWASgene=scdrs.method.downstream_gene_analysis(adata, dict_df_score[\"P\"])"
   ]
  },
  {
   "cell_type": "code",
   "execution_count": 9,
   "id": "91fb5315",
   "metadata": {},
   "outputs": [],
   "source": [
    "TWASgene=scdrs.method.downstream_gene_analysis(adata, dict_df_score[\"BD_TWAS\"])"
   ]
  },
  {
   "cell_type": "code",
   "execution_count": 14,
   "id": "e84888e7",
   "metadata": {},
   "outputs": [],
   "source": [
    "ATACgene=scdrs.method.downstream_gene_analysis(adata, dict_df_score[\"BD_ATAC\"])"
   ]
  },
  {
   "cell_type": "code",
   "execution_count": 20,
   "id": "adbf8088",
   "metadata": {},
   "outputs": [],
   "source": [
    "RNAseqgene=scdrs.method.downstream_gene_analysis(adata, dict_df_score[\"BD_RNAseq\"])"
   ]
  },
  {
   "cell_type": "code",
   "execution_count": 21,
   "id": "c8a2cb6c",
   "metadata": {},
   "outputs": [],
   "source": [
    "RNAseqgene.to_csv(\"RNAseqgenenew.csv\")"
   ]
  },
  {
   "cell_type": "code",
   "execution_count": 19,
   "id": "0774dc71",
   "metadata": {},
   "outputs": [],
   "source": [
    "atacgene.to_csv(\"atacgene.csv\")\n",
    "rnaseqgene.to_csv(\"rnaseqgene.csv\")"
   ]
  },
  {
   "cell_type": "code",
   "execution_count": null,
   "id": "aa311df7",
   "metadata": {},
   "outputs": [],
   "source": []
  }
 ],
 "metadata": {
  "kernelspec": {
   "display_name": "wenming",
   "language": "python",
   "name": "wenming"
  },
  "language_info": {
   "codemirror_mode": {
    "name": "ipython",
    "version": 3
   },
   "file_extension": ".py",
   "mimetype": "text/x-python",
   "name": "python",
   "nbconvert_exporter": "python",
   "pygments_lexer": "ipython3",
   "version": "3.10.8"
  }
 },
 "nbformat": 4,
 "nbformat_minor": 5
}
